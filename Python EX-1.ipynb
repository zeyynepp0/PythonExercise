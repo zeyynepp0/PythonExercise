{
 "cells": [
  {
   "cell_type": "code",
   "execution_count": 1,
   "metadata": {},
   "outputs": [
    {
     "name": "stdout",
     "output_type": "stream",
     "text": [
      "Not good, you should work harder.\n"
     ]
    }
   ],
   "source": [
    "score = int(input(\"Please enter your score: \"))\n",
    "\n",
    "if score <= 50:\n",
    "    print(\"Not good, you should work harder.\")\n",
    "elif score <=80:\n",
    "    print(\"Nice but you should still work harder.\")\n",
    "elif score <= 100 :\n",
    "    print(\"Congratulations!\")\n",
    "else:\n",
    "    print(\"Invalid Score\")\n",
    "\n",
    "\n"
   ]
  },
  {
   "cell_type": "code",
   "execution_count": null,
   "metadata": {},
   "outputs": [
    {
     "name": "stdout",
     "output_type": "stream",
     "text": [
      "3\n"
     ]
    }
   ],
   "source": [
    "x = True\n",
    "y = False\n",
    "z = False\n",
    "\n",
    "if not x or y:\n",
    "    print(1)\n",
    "elif not x or not y and z:\n",
    "    print(2)\n",
    "elif not x or y or not y and x:\n",
    "    print(3)\n",
    "else :\n",
    "    print(4)"
   ]
  },
  {
   "cell_type": "code",
   "execution_count": null,
   "metadata": {},
   "outputs": [
    {
     "name": "stdout",
     "output_type": "stream",
     "text": [
      "54 is found in the list\n"
     ]
    }
   ],
   "source": [
    "found = False\n",
    "myList = [13, 12, 66, 87, 99, 203, 111, 54, 431, 11]\n",
    "i =0\n",
    "#while(not found):\n",
    "while not found and i < len(myList):\n",
    "    if (myList[i] == 54):\n",
    "        found = True\n",
    "        break\n",
    "    i +=1\n",
    "if found:\n",
    "    print(\"54 is found in the list\")\n",
    "else:\n",
    "    print(\"54 is not found in the list\")"
   ]
  },
  {
   "cell_type": "code",
   "execution_count": 1,
   "metadata": {},
   "outputs": [
    {
     "name": "stdout",
     "output_type": "stream",
     "text": [
      "4\n"
     ]
    }
   ],
   "source": [
    "g = 0\n",
    "for i in \"Istanbul\" :\n",
    "    if i == \"n\":\n",
    "     break\n",
    "    else:\n",
    "      g+= 1\n",
    "        \n",
    "print(g)"
   ]
  },
  {
   "cell_type": "code",
   "execution_count": null,
   "metadata": {},
   "outputs": [
    {
     "name": "stdout",
     "output_type": "stream",
     "text": [
      "positive Number\n"
     ]
    }
   ],
   "source": [
    "num = 3.4\n",
    "if num > 0:\n",
    "    print(\"positive Number\")\n",
    "elif num == 0:\n",
    "    print(\"Zero\")\n",
    "else:\n",
    "    print(\"Negative Number\")"
   ]
  },
  {
   "cell_type": "code",
   "execution_count": 2,
   "metadata": {},
   "outputs": [
    {
     "name": "stdout",
     "output_type": "stream",
     "text": [
      "1\n"
     ]
    }
   ],
   "source": [
    "my_list = [1, 5, 5, 5, 5,1]\n",
    "top = my_list[0]\n",
    "\n",
    "for element in my_list:\n",
    "    if element > top:\n",
    "        top = element\n",
    "print(my_list[top])\n"
   ]
  },
  {
   "cell_type": "code",
   "execution_count": 3,
   "metadata": {},
   "outputs": [
    {
     "name": "stdout",
     "output_type": "stream",
     "text": [
      "1\n",
      "3\n"
     ]
    }
   ],
   "source": [
    "i = 1\n",
    "while True:\n",
    "    print(i)\n",
    "    i+=2\n",
    "    if( i== 5):\n",
    "        break"
   ]
  },
  {
   "cell_type": "code",
   "execution_count": 4,
   "metadata": {},
   "outputs": [
    {
     "name": "stdout",
     "output_type": "stream",
     "text": [
      "7\n"
     ]
    }
   ],
   "source": [
    "def myproduct(num1, num2):\n",
    "    return(num1 * num2 )\n",
    "\n",
    "amount = myproduct(3, 2) +1\n",
    "print(amount)"
   ]
  },
  {
   "cell_type": "code",
   "execution_count": 5,
   "metadata": {},
   "outputs": [
    {
     "name": "stdout",
     "output_type": "stream",
     "text": [
      "16\n"
     ]
    }
   ],
   "source": [
    "num1 = 8\n",
    "num2 = 4\n",
    "def my_function():\n",
    "    num1 =12\n",
    "    return num1 + num2\n",
    "\n",
    "print (my_function())"
   ]
  },
  {
   "cell_type": "code",
   "execution_count": 9,
   "metadata": {},
   "outputs": [
    {
     "name": "stdout",
     "output_type": "stream",
     "text": [
      "0\n"
     ]
    }
   ],
   "source": [
    "def myfunction(a, b, c=5, d=2):\n",
    "    if c > d:\n",
    "        print(a)\n",
    "    else:\n",
    "        print(b)\n",
    "\n",
    "myfunction(a=0, b=1, d=4)"
   ]
  },
  {
   "cell_type": "code",
   "execution_count": 14,
   "metadata": {},
   "outputs": [
    {
     "ename": "IndentationError",
     "evalue": "unindent does not match any outer indentation level (<string>, line 6)",
     "output_type": "error",
     "traceback": [
      "\u001b[1;36m  File \u001b[1;32m<string>:6\u001b[1;36m\u001b[0m\n\u001b[1;33m    print (amount)\u001b[0m\n\u001b[1;37m                  ^\u001b[0m\n\u001b[1;31mIndentationError\u001b[0m\u001b[1;31m:\u001b[0m unindent does not match any outer indentation level\n"
     ]
    }
   ],
   "source": [
    "def myproduct(num1, num2):\n",
    "    print(num1 * num2)\n",
    "\n",
    "    amount = myproduct(3, 2) + 1\n",
    "   \n",
    " print (amount)"
   ]
  },
  {
   "cell_type": "code",
   "execution_count": 17,
   "metadata": {},
   "outputs": [],
   "source": [
    "def fool():\n",
    "    print(\"This is fool\")\n",
    "    return \"Hello World\""
   ]
  },
  {
   "cell_type": "code",
   "execution_count": 18,
   "metadata": {},
   "outputs": [
    {
     "name": "stdout",
     "output_type": "stream",
     "text": [
      "1200\n"
     ]
    }
   ],
   "source": [
    "price = 1200\n",
    "def update_price(new_price):\n",
    "    price = new_price\n",
    "    return price\n",
    "\n",
    "update_price (1500)\n",
    "print(price)"
   ]
  },
  {
   "cell_type": "code",
   "execution_count": 19,
   "metadata": {},
   "outputs": [
    {
     "name": "stdout",
     "output_type": "stream",
     "text": [
      "1500\n"
     ]
    }
   ],
   "source": [
    "price = 1200\n",
    "\n",
    "def update_price(new_price):\n",
    "    price = new_price\n",
    "    return price\n",
    "\n",
    "# update_price fonksiyonundan dönen değeri price değişkenine atayarak güncelliyoruz\n",
    "price = update_price(1500)\n",
    "\n",
    "# Güncellenmiş price değerini ekrana yazdırıyoruz\n",
    "print(price)\n"
   ]
  }
 ],
 "metadata": {
  "kernelspec": {
   "display_name": "Python 3",
   "language": "python",
   "name": "python3"
  },
  "language_info": {
   "codemirror_mode": {
    "name": "ipython",
    "version": 3
   },
   "file_extension": ".py",
   "mimetype": "text/x-python",
   "name": "python",
   "nbconvert_exporter": "python",
   "pygments_lexer": "ipython3",
   "version": "3.12.1"
  }
 },
 "nbformat": 4,
 "nbformat_minor": 2
}
