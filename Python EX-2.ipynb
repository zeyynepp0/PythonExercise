{
 "cells": [
  {
   "cell_type": "code",
   "execution_count": 9,
   "metadata": {},
   "outputs": [
    {
     "name": "stdout",
     "output_type": "stream",
     "text": [
      "{'anahtar1': 'değer1', 'anahtar2': 'değer2', 'anahtar3': 'değer3'}\n"
     ]
    }
   ],
   "source": [
    "# Bir sözlük oluşturma\n",
    "my_dict = {\"anahtar1\": \"değer1\", \"anahtar2\": \"değer2\", \"anahtar3\": \"değer3\"}\n",
    "\n",
    "# Sözlüğü ekrana yazdırma\n",
    "print(my_dict)\n"
   ]
  },
  {
   "cell_type": "code",
   "execution_count": 10,
   "metadata": {},
   "outputs": [
    {
     "name": "stdout",
     "output_type": "stream",
     "text": [
      "değer1\n"
     ]
    }
   ],
   "source": [
    "# Bir anahtarı kullanarak değere erişme\n",
    "deger = my_dict[\"anahtar1\"]\n",
    "print(deger)  # Çıktı: değer1\n"
   ]
  },
  {
   "cell_type": "code",
   "execution_count": 11,
   "metadata": {},
   "outputs": [
    {
     "name": "stdout",
     "output_type": "stream",
     "text": [
      "değer1\n"
     ]
    }
   ],
   "source": [
    "# get() fonksiyonu ile değere erişme\n",
    "deger = my_dict.get(\"anahtar1\")\n",
    "print(deger)  # Çıktı: değer1\n"
   ]
  },
  {
   "cell_type": "code",
   "execution_count": 12,
   "metadata": {},
   "outputs": [
    {
     "name": "stdout",
     "output_type": "stream",
     "text": [
      "{'anahtar1': 'değer1', 'anahtar2': 'değer2', 'anahtar3': 'değer3'}\n",
      "yeni_değer\n",
      "değer4\n",
      "{'anahtar1': 'yeni_değer', 'anahtar2': 'değer2', 'anahtar3': 'değer3', 'anahtar4': 'değer4'}\n"
     ]
    }
   ],
   "source": [
    "# Değer güncelleme\n",
    "print(my_dict)\n",
    "\n",
    "my_dict[\"anahtar1\"] = \"yeni_değer\"\n",
    "\n",
    "# Yeni bir anahtar-değer ekleme\n",
    "my_dict[\"anahtar4\"] = \"değer4\"\n",
    "\n",
    "deger = my_dict[\"anahtar1\"]\n",
    "print(deger)\n",
    "\n",
    "deger = my_dict.get(\"anahtar4\")\n",
    "print(deger)\n",
    "\n",
    "print(my_dict)"
   ]
  },
  {
   "cell_type": "code",
   "execution_count": 13,
   "metadata": {},
   "outputs": [
    {
     "name": "stdout",
     "output_type": "stream",
     "text": [
      "{'anahtar2': 'değer2', 'anahtar3': 'değer3', 'anahtar4': 'değer4'}\n"
     ]
    }
   ],
   "source": [
    "# Bir anahtarı silme\n",
    "del my_dict[\"anahtar1\"]\n",
    "\n",
    "print(my_dict)\n"
   ]
  },
  {
   "cell_type": "code",
   "execution_count": 28,
   "metadata": {},
   "outputs": [
    {
     "name": "stdout",
     "output_type": "stream",
     "text": [
      "Öğrenci Adı: Zeynep\n",
      "Öğrenci Yaşı: 20\n",
      "Öğrenci Bölüm: Bilgisayar Mühendisliği\n",
      "Öğrenci Notu: [88, 92, 80]\n",
      "Öğrenci Mezuniyet Tarihi: 2024\n"
     ]
    }
   ],
   "source": [
    "# Bir öğrencinin bilgilerini içeren bir sözlük\n",
    "ogrenci_bilgileri = {\n",
    "    \"isim\": \"Zeynep\",\n",
    "    \"yas\": 20,\n",
    "    \"bolum\": \"Bilgisayar Mühendisliği\",\n",
    "    \"notlar\": [85, 90, 78]\n",
    "}\n",
    "\n",
    "# Öğrenci adını yazdırma\n",
    "print(\"Öğrenci Adı:\", ogrenci_bilgileri[\"isim\"])\n",
    "print(\"Öğrenci Yaşı:\", ogrenci_bilgileri[\"yas\"])\n",
    "print(\"Öğrenci Bölüm:\", ogrenci_bilgileri[\"bolum\"])\n",
    "\n",
    "# Öğrencinin notlarını güncelleme\n",
    "ogrenci_bilgileri[\"notlar\"] = [88, 92, 80]\n",
    "print(\"Öğrenci Notu:\", ogrenci_bilgileri[\"notlar\"])\n",
    "\n",
    "\n",
    "# Yeni bir anahtar-değer çifti ekleme\n",
    "ogrenci_bilgileri[\"mezuniyet_tarihi\"] = \"2024\"\n",
    "print(\"Öğrenci Mezuniyet Tarihi:\", ogrenci_bilgileri[\"mezuniyet_tarihi\"])\n",
    "\n"
   ]
  },
  {
   "cell_type": "code",
   "execution_count": 29,
   "metadata": {},
   "outputs": [
    {
     "ename": "TypeError",
     "evalue": "'tuple' object does not support item assignment",
     "output_type": "error",
     "traceback": [
      "\u001b[1;31m---------------------------------------------------------------------------\u001b[0m",
      "\u001b[1;31mTypeError\u001b[0m                                 Traceback (most recent call last)",
      "Cell \u001b[1;32mIn[29], line 2\u001b[0m\n\u001b[0;32m      1\u001b[0m shopping_list \u001b[38;5;241m=\u001b[39m (\u001b[38;5;124m\"\u001b[39m\u001b[38;5;124mApples\u001b[39m\u001b[38;5;124m\"\u001b[39m, \u001b[38;5;124m\"\u001b[39m\u001b[38;5;124mEggs\u001b[39m\u001b[38;5;124m\"\u001b[39m, \u001b[38;5;124m\"\u001b[39m\u001b[38;5;124mBread\u001b[39m\u001b[38;5;124m\"\u001b[39m, \u001b[38;5;124m\"\u001b[39m\u001b[38;5;124mJelly\u001b[39m\u001b[38;5;124m\"\u001b[39m)\n\u001b[1;32m----> 2\u001b[0m \u001b[43mshopping_list\u001b[49m\u001b[43m[\u001b[49m\u001b[38;5;241;43m1\u001b[39;49m\u001b[43m]\u001b[49m \u001b[38;5;241m=\u001b[39m \u001b[38;5;124m\"\u001b[39m\u001b[38;5;124mBananas\u001b[39m\u001b[38;5;124m\"\u001b[39m\n\u001b[0;32m      3\u001b[0m \u001b[38;5;28mprint\u001b[39m (shopping_list)\n",
      "\u001b[1;31mTypeError\u001b[0m: 'tuple' object does not support item assignment"
     ]
    }
   ],
   "source": [
    "shopping_list = (\"Apples\", \"Eggs\", \"Bread\", \"Jelly\")\n",
    "shopping_list[1] = \"Bananas\"\n",
    "print (shopping_list)"
   ]
  },
  {
   "cell_type": "code",
   "execution_count": null,
   "metadata": {},
   "outputs": [],
   "source": []
  },
  {
   "cell_type": "code",
   "execution_count": 32,
   "metadata": {},
   "outputs": [
    {
     "name": "stdout",
     "output_type": "stream",
     "text": [
      "AI\n"
     ]
    }
   ],
   "source": [
    "mystr = \"Hello AI World\"\n",
    "extracted_str = mystr[6:8]\n",
    "print(extracted_str)\n"
   ]
  },
  {
   "cell_type": "code",
   "execution_count": 34,
   "metadata": {},
   "outputs": [
    {
     "name": "stdout",
     "output_type": "stream",
     "text": [
      "[2, 3, 4, 2]\n"
     ]
    }
   ],
   "source": [
    "list_of_number = [2, 5, 3, 4, 9, 2]\n",
    "new_list = []\n",
    "\n",
    "for number in list_of_number:\n",
    "    inc_number = number + 1\n",
    "    if inc_number < 6:\n",
    "        new_list.append(number)\n",
    "\n",
    "print (new_list)"
   ]
  },
  {
   "cell_type": "code",
   "execution_count": 36,
   "metadata": {},
   "outputs": [
    {
     "name": "stdout",
     "output_type": "stream",
     "text": [
      "[0, 1, 4, 9, 16]\n"
     ]
    }
   ],
   "source": [
    "series = range(5)\n",
    "new_series = [num** 2 for num in series]\n",
    "print(new_series)"
   ]
  },
  {
   "cell_type": "code",
   "execution_count": 40,
   "metadata": {},
   "outputs": [
    {
     "name": "stdout",
     "output_type": "stream",
     "text": [
      "{'alex': 11, 'Bella': 12, 'Chirs': 12, 'Donna': 10}\n",
      "{'alex': 11, 'Bella': 12, 'Chirs': 12, 'Donna': 10}\n",
      "{'alex': 11, 'Bella': 12, 'Chirs': 12, 'Donna': 10}\n",
      "{'alex': 11, 'Bella': 12, 'Chirs': 12, 'Donna': 10}\n"
     ]
    }
   ],
   "source": [
    "student_age_dict = {\"alex\" :11, \"Bella\" : 12, \"Chirs\" : 12, \"Donna\" : 10}\n",
    "\n",
    "for stundent in student_age_dict.keys():\n",
    "    age = student_age_dict[stundent]\n",
    "    age += 1\n",
    "    print(student_age_dict)\n",
    "\n"
   ]
  }
 ],
 "metadata": {
  "kernelspec": {
   "display_name": "Python 3",
   "language": "python",
   "name": "python3"
  },
  "language_info": {
   "codemirror_mode": {
    "name": "ipython",
    "version": 3
   },
   "file_extension": ".py",
   "mimetype": "text/x-python",
   "name": "python",
   "nbconvert_exporter": "python",
   "pygments_lexer": "ipython3",
   "version": "3.12.1"
  }
 },
 "nbformat": 4,
 "nbformat_minor": 2
}
